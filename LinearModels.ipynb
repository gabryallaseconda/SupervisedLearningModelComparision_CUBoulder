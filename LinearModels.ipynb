{
 "cells": [
  {
   "cell_type": "markdown",
   "metadata": {},
   "source": [
    "# Linear Model Regressions"
   ]
  },
  {
   "cell_type": "markdown",
   "metadata": {},
   "source": [
    "## Packages"
   ]
  },
  {
   "cell_type": "code",
   "execution_count": 1,
   "metadata": {},
   "outputs": [],
   "source": [
    "import pandas as pd\n",
    "\n",
    "import statsmodels.api as sm\n",
    "import statsmodels.formula.api as smf\n",
    "\n",
    "\n",
    "from sklearn.model_selection import cross_val_score\n",
    "from sklearn.model_selection import KFold\n",
    "\n",
    "#from sklearn.metrics import mean_squared_error, r2_score\n",
    "\n",
    "from sklearn.linear_model import LinearRegression, Ridge, Lasso, ElasticNet\n",
    "\n",
    "from collections import Counter\n",
    "import random\n",
    "\n",
    "\n",
    "\n",
    "import matplotlib.pyplot as plt\n",
    "\n"
   ]
  },
  {
   "cell_type": "markdown",
   "metadata": {},
   "source": [
    "## Import Data"
   ]
  },
  {
   "cell_type": "code",
   "execution_count": 2,
   "metadata": {},
   "outputs": [
    {
     "data": {
      "text/html": [
       "<div>\n",
       "<style scoped>\n",
       "    .dataframe tbody tr th:only-of-type {\n",
       "        vertical-align: middle;\n",
       "    }\n",
       "\n",
       "    .dataframe tbody tr th {\n",
       "        vertical-align: top;\n",
       "    }\n",
       "\n",
       "    .dataframe thead th {\n",
       "        text-align: right;\n",
       "    }\n",
       "</style>\n",
       "<table border=\"1\" class=\"dataframe\">\n",
       "  <thead>\n",
       "    <tr style=\"text-align: right;\">\n",
       "      <th></th>\n",
       "      <th>age</th>\n",
       "      <th>Pedu</th>\n",
       "      <th>traveltime</th>\n",
       "      <th>studytime</th>\n",
       "      <th>failures</th>\n",
       "      <th>famrel</th>\n",
       "      <th>gooutAlc</th>\n",
       "      <th>health</th>\n",
       "      <th>sex</th>\n",
       "      <th>addressInternet</th>\n",
       "      <th>...</th>\n",
       "      <th>Mjob_services</th>\n",
       "      <th>Mjob_teacher</th>\n",
       "      <th>Fjob_at_home</th>\n",
       "      <th>Fjob_health</th>\n",
       "      <th>Fjob_services</th>\n",
       "      <th>Fjob_teacher</th>\n",
       "      <th>reason_course</th>\n",
       "      <th>reason_home</th>\n",
       "      <th>reason_reputation</th>\n",
       "      <th>G3</th>\n",
       "    </tr>\n",
       "  </thead>\n",
       "  <tbody>\n",
       "    <tr>\n",
       "      <th>0</th>\n",
       "      <td>1.021751</td>\n",
       "      <td>-0.940091</td>\n",
       "      <td>-0.642435</td>\n",
       "      <td>-1.233786</td>\n",
       "      <td>0.895343</td>\n",
       "      <td>-1.053136</td>\n",
       "      <td>1.570863</td>\n",
       "      <td>1.039751</td>\n",
       "      <td>1</td>\n",
       "      <td>1</td>\n",
       "      <td>...</td>\n",
       "      <td>1</td>\n",
       "      <td>0</td>\n",
       "      <td>0</td>\n",
       "      <td>0</td>\n",
       "      <td>1</td>\n",
       "      <td>0</td>\n",
       "      <td>0</td>\n",
       "      <td>0</td>\n",
       "      <td>0</td>\n",
       "      <td>8</td>\n",
       "    </tr>\n",
       "    <tr>\n",
       "      <th>1</th>\n",
       "      <td>0.238078</td>\n",
       "      <td>-0.940091</td>\n",
       "      <td>-0.642435</td>\n",
       "      <td>-0.042232</td>\n",
       "      <td>-0.449374</td>\n",
       "      <td>0.062115</td>\n",
       "      <td>1.570863</td>\n",
       "      <td>0.320484</td>\n",
       "      <td>1</td>\n",
       "      <td>1</td>\n",
       "      <td>...</td>\n",
       "      <td>0</td>\n",
       "      <td>0</td>\n",
       "      <td>0</td>\n",
       "      <td>0</td>\n",
       "      <td>0</td>\n",
       "      <td>0</td>\n",
       "      <td>0</td>\n",
       "      <td>1</td>\n",
       "      <td>0</td>\n",
       "      <td>13</td>\n",
       "    </tr>\n",
       "    <tr>\n",
       "      <th>2</th>\n",
       "      <td>0.238078</td>\n",
       "      <td>-0.940091</td>\n",
       "      <td>0.791247</td>\n",
       "      <td>-0.042232</td>\n",
       "      <td>-0.449374</td>\n",
       "      <td>0.062115</td>\n",
       "      <td>0.657033</td>\n",
       "      <td>1.039751</td>\n",
       "      <td>0</td>\n",
       "      <td>1</td>\n",
       "      <td>...</td>\n",
       "      <td>1</td>\n",
       "      <td>0</td>\n",
       "      <td>0</td>\n",
       "      <td>0</td>\n",
       "      <td>0</td>\n",
       "      <td>0</td>\n",
       "      <td>1</td>\n",
       "      <td>0</td>\n",
       "      <td>0</td>\n",
       "      <td>12</td>\n",
       "    </tr>\n",
       "    <tr>\n",
       "      <th>3</th>\n",
       "      <td>-0.545595</td>\n",
       "      <td>1.024650</td>\n",
       "      <td>-0.642435</td>\n",
       "      <td>-1.233786</td>\n",
       "      <td>-0.449374</td>\n",
       "      <td>-1.053136</td>\n",
       "      <td>-1.170628</td>\n",
       "      <td>1.039751</td>\n",
       "      <td>1</td>\n",
       "      <td>1</td>\n",
       "      <td>...</td>\n",
       "      <td>0</td>\n",
       "      <td>1</td>\n",
       "      <td>0</td>\n",
       "      <td>0</td>\n",
       "      <td>0</td>\n",
       "      <td>1</td>\n",
       "      <td>1</td>\n",
       "      <td>0</td>\n",
       "      <td>0</td>\n",
       "      <td>0</td>\n",
       "    </tr>\n",
       "    <tr>\n",
       "      <th>4</th>\n",
       "      <td>1.805423</td>\n",
       "      <td>-1.922461</td>\n",
       "      <td>-0.642435</td>\n",
       "      <td>-0.042232</td>\n",
       "      <td>0.895343</td>\n",
       "      <td>0.062115</td>\n",
       "      <td>-0.256798</td>\n",
       "      <td>-0.398784</td>\n",
       "      <td>0</td>\n",
       "      <td>1</td>\n",
       "      <td>...</td>\n",
       "      <td>0</td>\n",
       "      <td>0</td>\n",
       "      <td>0</td>\n",
       "      <td>0</td>\n",
       "      <td>0</td>\n",
       "      <td>0</td>\n",
       "      <td>0</td>\n",
       "      <td>0</td>\n",
       "      <td>1</td>\n",
       "      <td>10</td>\n",
       "    </tr>\n",
       "  </tbody>\n",
       "</table>\n",
       "<p>5 rows × 29 columns</p>\n",
       "</div>"
      ],
      "text/plain": [
       "        age      Pedu  traveltime  studytime  failures    famrel  gooutAlc  \\\n",
       "0  1.021751 -0.940091   -0.642435  -1.233786  0.895343 -1.053136  1.570863   \n",
       "1  0.238078 -0.940091   -0.642435  -0.042232 -0.449374  0.062115  1.570863   \n",
       "2  0.238078 -0.940091    0.791247  -0.042232 -0.449374  0.062115  0.657033   \n",
       "3 -0.545595  1.024650   -0.642435  -1.233786 -0.449374 -1.053136 -1.170628   \n",
       "4  1.805423 -1.922461   -0.642435  -0.042232  0.895343  0.062115 -0.256798   \n",
       "\n",
       "     health  sex  addressInternet  ...  Mjob_services  Mjob_teacher  \\\n",
       "0  1.039751    1                1  ...              1             0   \n",
       "1  0.320484    1                1  ...              0             0   \n",
       "2  1.039751    0                1  ...              1             0   \n",
       "3  1.039751    1                1  ...              0             1   \n",
       "4 -0.398784    0                1  ...              0             0   \n",
       "\n",
       "   Fjob_at_home  Fjob_health  Fjob_services  Fjob_teacher  reason_course  \\\n",
       "0             0            0              1             0              0   \n",
       "1             0            0              0             0              0   \n",
       "2             0            0              0             0              1   \n",
       "3             0            0              0             1              1   \n",
       "4             0            0              0             0              0   \n",
       "\n",
       "   reason_home  reason_reputation  G3  \n",
       "0            0                  0   8  \n",
       "1            1                  0  13  \n",
       "2            0                  0  12  \n",
       "3            0                  0   0  \n",
       "4            0                  1  10  \n",
       "\n",
       "[5 rows x 29 columns]"
      ]
     },
     "execution_count": 2,
     "metadata": {},
     "output_type": "execute_result"
    }
   ],
   "source": [
    "df = pd.read_csv('train_df.csv')\n",
    "df.head()"
   ]
  },
  {
   "cell_type": "code",
   "execution_count": 3,
   "metadata": {},
   "outputs": [],
   "source": [
    "X = df.drop(['G3'], axis = 1)\n",
    "y = df[['G3']]"
   ]
  },
  {
   "cell_type": "markdown",
   "metadata": {},
   "source": [
    "## Feature selection via backward elimination using p-value"
   ]
  },
  {
   "cell_type": "code",
   "execution_count": 4,
   "metadata": {},
   "outputs": [],
   "source": [
    "def majority_vote_with_random_tie_breaking(strings):\n",
    "    counts = Counter(strings)\n",
    "    \n",
    "    max_count = max(counts.values())\n",
    "    majority_strings = [string for string, count in counts.items() if count == max_count]\n",
    "\n",
    "    result = random.choice(majority_strings)\n",
    "    \n",
    "    return result"
   ]
  },
  {
   "cell_type": "code",
   "execution_count": 5,
   "metadata": {},
   "outputs": [
    {
     "name": "stdout",
     "output_type": "stream",
     "text": [
      "\t Current features: ['age', 'Pedu', 'traveltime', 'studytime', 'failures', 'famrel', 'gooutAlc', 'health', 'sex', 'addressInternet', 'famsize', 'Pstatus', 'schoolsup', 'paid', 'nursery', 'higher', 'romantic', 'Mjob_at_home', 'Mjob_health', 'Mjob_services', 'Mjob_teacher', 'Fjob_at_home', 'Fjob_health', 'Fjob_services', 'Fjob_teacher', 'reason_course', 'reason_home', 'reason_reputation']\n",
      "Model r2: 0.018033169096096383, removed feature: Mjob_at_home\n",
      "\t Current features: ['age', 'Pedu', 'traveltime', 'studytime', 'failures', 'famrel', 'gooutAlc', 'health', 'sex', 'addressInternet', 'famsize', 'Pstatus', 'schoolsup', 'paid', 'nursery', 'higher', 'romantic', 'Mjob_health', 'Mjob_services', 'Mjob_teacher', 'Fjob_at_home', 'Fjob_health', 'Fjob_services', 'Fjob_teacher', 'reason_course', 'reason_home', 'reason_reputation']\n",
      "Model r2: 0.028874079618193202, removed feature: reason_reputation\n",
      "\t Current features: ['age', 'Pedu', 'traveltime', 'studytime', 'failures', 'famrel', 'gooutAlc', 'health', 'sex', 'addressInternet', 'famsize', 'Pstatus', 'schoolsup', 'paid', 'nursery', 'higher', 'romantic', 'Mjob_health', 'Mjob_services', 'Mjob_teacher', 'Fjob_at_home', 'Fjob_health', 'Fjob_services', 'Fjob_teacher', 'reason_course', 'reason_home']\n",
      "Model r2: 0.03996438807727011, removed feature: traveltime\n",
      "\t Current features: ['age', 'Pedu', 'studytime', 'failures', 'famrel', 'gooutAlc', 'health', 'sex', 'addressInternet', 'famsize', 'Pstatus', 'schoolsup', 'paid', 'nursery', 'higher', 'romantic', 'Mjob_health', 'Mjob_services', 'Mjob_teacher', 'Fjob_at_home', 'Fjob_health', 'Fjob_services', 'Fjob_teacher', 'reason_course', 'reason_home']\n",
      "Model r2: 0.04933849946657423, removed feature: paid\n",
      "\t Current features: ['age', 'Pedu', 'studytime', 'failures', 'famrel', 'gooutAlc', 'health', 'sex', 'addressInternet', 'famsize', 'Pstatus', 'schoolsup', 'nursery', 'higher', 'romantic', 'Mjob_health', 'Mjob_services', 'Mjob_teacher', 'Fjob_at_home', 'Fjob_health', 'Fjob_services', 'Fjob_teacher', 'reason_course', 'reason_home']\n",
      "Model r2: 0.05205478858950688, removed feature: Fjob_at_home\n",
      "\t Current features: ['age', 'Pedu', 'studytime', 'failures', 'famrel', 'gooutAlc', 'health', 'sex', 'addressInternet', 'famsize', 'Pstatus', 'schoolsup', 'nursery', 'higher', 'romantic', 'Mjob_health', 'Mjob_services', 'Mjob_teacher', 'Fjob_health', 'Fjob_services', 'Fjob_teacher', 'reason_course', 'reason_home']\n",
      "Model r2: 0.0550015713672035, removed feature: Fjob_health\n",
      "\t Current features: ['age', 'Pedu', 'studytime', 'failures', 'famrel', 'gooutAlc', 'health', 'sex', 'addressInternet', 'famsize', 'Pstatus', 'schoolsup', 'nursery', 'higher', 'romantic', 'Mjob_health', 'Mjob_services', 'Mjob_teacher', 'Fjob_services', 'Fjob_teacher', 'reason_course', 'reason_home']\n",
      "Model r2: 0.06355462150092546, removed feature: Fjob_services\n",
      "\t Current features: ['age', 'Pedu', 'studytime', 'failures', 'famrel', 'gooutAlc', 'health', 'sex', 'addressInternet', 'famsize', 'Pstatus', 'schoolsup', 'nursery', 'higher', 'romantic', 'Mjob_health', 'Mjob_services', 'Mjob_teacher', 'Fjob_teacher', 'reason_course', 'reason_home']\n",
      "Model r2: 0.07382369666667055, removed feature: health\n",
      "\t Current features: ['age', 'Pedu', 'studytime', 'failures', 'famrel', 'gooutAlc', 'sex', 'addressInternet', 'famsize', 'Pstatus', 'schoolsup', 'nursery', 'higher', 'romantic', 'Mjob_health', 'Mjob_services', 'Mjob_teacher', 'Fjob_teacher', 'reason_course', 'reason_home']\n",
      "Model r2: 0.07376120790344974, removed feature: higher\n",
      "\t Current features: ['age', 'Pedu', 'studytime', 'failures', 'famrel', 'gooutAlc', 'sex', 'addressInternet', 'famsize', 'Pstatus', 'schoolsup', 'nursery', 'romantic', 'Mjob_health', 'Mjob_services', 'Mjob_teacher', 'Fjob_teacher', 'reason_course', 'reason_home']\n",
      "Model r2: 0.07642737955597417, removed feature: reason_home\n",
      "\t Current features: ['age', 'Pedu', 'studytime', 'failures', 'famrel', 'gooutAlc', 'sex', 'addressInternet', 'famsize', 'Pstatus', 'schoolsup', 'nursery', 'romantic', 'Mjob_health', 'Mjob_services', 'Mjob_teacher', 'Fjob_teacher', 'reason_course']\n",
      "Model r2: 0.0815240714141022, removed feature: reason_course\n",
      "\t Current features: ['age', 'Pedu', 'studytime', 'failures', 'famrel', 'gooutAlc', 'sex', 'addressInternet', 'famsize', 'Pstatus', 'schoolsup', 'nursery', 'romantic', 'Mjob_health', 'Mjob_services', 'Mjob_teacher', 'Fjob_teacher']\n",
      "Model r2: 0.09550219439736296, removed feature: age\n",
      "\t Current features: ['Pedu', 'studytime', 'failures', 'famrel', 'gooutAlc', 'sex', 'addressInternet', 'famsize', 'Pstatus', 'schoolsup', 'nursery', 'romantic', 'Mjob_health', 'Mjob_services', 'Mjob_teacher', 'Fjob_teacher']\n",
      "Model r2: 0.09996508859268394, removed feature: nursery\n",
      "\t Current features: ['Pedu', 'studytime', 'failures', 'famrel', 'gooutAlc', 'sex', 'addressInternet', 'famsize', 'Pstatus', 'schoolsup', 'romantic', 'Mjob_health', 'Mjob_services', 'Mjob_teacher', 'Fjob_teacher']\n",
      "Model r2: 0.1081343745212304, removed feature: Pstatus\n",
      "\t Current features: ['Pedu', 'studytime', 'failures', 'famrel', 'gooutAlc', 'sex', 'addressInternet', 'famsize', 'schoolsup', 'romantic', 'Mjob_health', 'Mjob_services', 'Mjob_teacher', 'Fjob_teacher']\n",
      "Model r2: 0.11301884279379507, removed feature: famrel\n",
      "\t Current features: ['Pedu', 'studytime', 'failures', 'gooutAlc', 'sex', 'addressInternet', 'famsize', 'schoolsup', 'romantic', 'Mjob_health', 'Mjob_services', 'Mjob_teacher', 'Fjob_teacher']\n",
      "Model r2: 0.11334702660162158, removed feature: Mjob_health\n",
      "\t Current features: ['Pedu', 'studytime', 'failures', 'gooutAlc', 'sex', 'addressInternet', 'famsize', 'schoolsup', 'romantic', 'Mjob_services', 'Mjob_teacher', 'Fjob_teacher']\n",
      "Model r2: 0.10914988378290441, removed feature: Fjob_teacher\n",
      "\t Current features: ['Pedu', 'studytime', 'failures', 'gooutAlc', 'sex', 'addressInternet', 'famsize', 'schoolsup', 'romantic', 'Mjob_services', 'Mjob_teacher']\n",
      "Model r2: 0.11249039552424578, removed feature: gooutAlc\n",
      "\t Current features: ['Pedu', 'studytime', 'failures', 'sex', 'addressInternet', 'famsize', 'schoolsup', 'romantic', 'Mjob_services', 'Mjob_teacher']\n",
      "Model r2: 0.10313513684346176, removed feature: Mjob_services\n",
      "\t Current features: ['Pedu', 'studytime', 'failures', 'sex', 'addressInternet', 'famsize', 'schoolsup', 'romantic', 'Mjob_teacher']\n",
      "Model r2: 0.10451908880296286, removed feature: famsize\n",
      "\t Current features: ['Pedu', 'studytime', 'failures', 'sex', 'addressInternet', 'schoolsup', 'romantic', 'Mjob_teacher']\n",
      "Model r2: 0.10703711950606361, removed feature: sex\n",
      "\t Current features: ['Pedu', 'studytime', 'failures', 'addressInternet', 'schoolsup', 'romantic', 'Mjob_teacher']\n",
      "Model r2: 0.11394400174790612, removed feature: studytime\n",
      "\t Current features: ['Pedu', 'failures', 'addressInternet', 'schoolsup', 'romantic', 'Mjob_teacher']\n",
      "Model r2: 0.11219585194872976, removed feature: Mjob_teacher\n",
      "\t Current features: ['Pedu', 'failures', 'addressInternet', 'schoolsup', 'romantic']\n",
      "Model r2: 0.10112061122000854, removed feature: Pedu\n",
      "\t Current features: ['failures', 'addressInternet', 'schoolsup', 'romantic']\n",
      "Model r2: 0.0955582255826765, removed feature: romantic\n",
      "\t Current features: ['failures', 'addressInternet', 'schoolsup']\n",
      "Model r2: 0.09186268505495133, removed feature: schoolsup\n"
     ]
    }
   ],
   "source": [
    "\n",
    "kf = KFold(n_splits=8, shuffle=False, random_state=None)\n",
    "\n",
    "features = list(X.columns)\n",
    "\n",
    "rsquared_history = []\n",
    "\n",
    "for i in range(26):\n",
    "    print(f'\\t Current features: {features}')\n",
    "    # Create the correct formula\n",
    "    formula = 'G3 ~ '\n",
    "    for feature in features:\n",
    "        formula += str(feature)+' + '    \n",
    "    formula = formula[:-3]\n",
    "    \n",
    "    rsquared_values = []\n",
    "    largest_pvalue_features = []\n",
    "    \n",
    "    for train_index, test_index in kf.split(df):\n",
    "        train_data = df.iloc[train_index]\n",
    "        test_data = df.iloc[test_index]\n",
    "\n",
    "        model = sm.OLS.from_formula(formula, data=train_data).fit()\n",
    "        \n",
    "        y_test_pred = model.predict(test_data)\n",
    "        y_test_actual = test_data['G3']\n",
    "        ss_total = ((y_test_actual - y_test_actual.mean())**2).sum()\n",
    "        ss_residual = ((y_test_actual - y_test_pred)**2).sum()\n",
    "        rsquared = 1 - (ss_residual / ss_total)\n",
    "\n",
    "        rsquared_values.append(rsquared)\n",
    "        largest_pvalue_features.append(model.pvalues.drop('Intercept').idxmax())\n",
    "        \n",
    "    rsquared = sum(rsquared_values)/8\n",
    "    largest_pvalue_feature = majority_vote_with_random_tie_breaking(largest_pvalue_features)\n",
    "\n",
    "    print(f'Model r2: {rsquared}, removed feature: {largest_pvalue_feature}')\n",
    "    \n",
    "    features.remove(largest_pvalue_feature)\n",
    "    \n",
    "    rsquared_history.append(rsquared)\n"
   ]
  },
  {
   "cell_type": "code",
   "execution_count": 6,
   "metadata": {},
   "outputs": [
    {
     "data": {
      "image/png": "[encoded data removed]",
      "text/plain": [
       "<Figure size 640x480 with 1 Axes>"
      ]
     },
     "metadata": {},
     "output_type": "display_data"
    }
   ],
   "source": [
    "#plt.plot(rsquared_history)\n",
    "plt.scatter(range(len(rsquared_history)), rsquared_history, marker='o', color='blue')\n",
    "\n",
    "\n",
    "# Aggiunta di etichette agli assi\n",
    "plt.xlabel('Models')\n",
    "plt.ylabel('R2 value')\n",
    "\n",
    "\n",
    "# Visualizzazione del grafico\n",
    "plt.show()"
   ]
  },
  {
   "cell_type": "code",
   "execution_count": 7,
   "metadata": {},
   "outputs": [
    {
     "data": {
      "text/html": [
       "<table class=\"simpletable\">\n",
       "<caption>OLS Regression Results</caption>\n",
       "<tr>\n",
       "  <th>Dep. Variable:</th>           <td>G3</td>        <th>  R-squared:         </th> <td>   0.259</td>\n",
       "</tr>\n",
       "<tr>\n",
       "  <th>Model:</th>                   <td>OLS</td>       <th>  Adj. R-squared:    </th> <td>   0.227</td>\n",
       "</tr>\n",
       "<tr>\n",
       "  <th>Method:</th>             <td>Least Squares</td>  <th>  F-statistic:       </th> <td>   8.153</td>\n",
       "</tr>\n",
       "<tr>\n",
       "  <th>Date:</th>             <td>Fri, 01 Mar 2024</td> <th>  Prob (F-statistic):</th> <td>4.66e-14</td>\n",
       "</tr>\n",
       "<tr>\n",
       "  <th>Time:</th>                 <td>11:55:22</td>     <th>  Log-Likelihood:    </th> <td> -891.00</td>\n",
       "</tr>\n",
       "<tr>\n",
       "  <th>No. Observations:</th>      <td>   317</td>      <th>  AIC:               </th> <td>   1810.</td>\n",
       "</tr>\n",
       "<tr>\n",
       "  <th>Df Residuals:</th>          <td>   303</td>      <th>  BIC:               </th> <td>   1863.</td>\n",
       "</tr>\n",
       "<tr>\n",
       "  <th>Df Model:</th>              <td>    13</td>      <th>                     </th>     <td> </td>   \n",
       "</tr>\n",
       "<tr>\n",
       "  <th>Covariance Type:</th>      <td>nonrobust</td>    <th>                     </th>     <td> </td>   \n",
       "</tr>\n",
       "</table>\n",
       "<table class=\"simpletable\">\n",
       "<tr>\n",
       "         <td></td>            <th>coef</th>     <th>std err</th>      <th>t</th>      <th>P>|t|</th>  <th>[0.025</th>    <th>0.975]</th>  \n",
       "</tr>\n",
       "<tr>\n",
       "  <th>Intercept</th>       <td>    8.8889</td> <td>    1.275</td> <td>    6.970</td> <td> 0.000</td> <td>    6.379</td> <td>   11.398</td>\n",
       "</tr>\n",
       "<tr>\n",
       "  <th>Pedu</th>            <td>    0.5697</td> <td>    0.290</td> <td>    1.964</td> <td> 0.050</td> <td>   -0.001</td> <td>    1.140</td>\n",
       "</tr>\n",
       "<tr>\n",
       "  <th>studytime</th>       <td>    0.5042</td> <td>    0.254</td> <td>    1.986</td> <td> 0.048</td> <td>    0.005</td> <td>    1.004</td>\n",
       "</tr>\n",
       "<tr>\n",
       "  <th>failures</th>        <td>   -1.3959</td> <td>    0.278</td> <td>   -5.030</td> <td> 0.000</td> <td>   -1.942</td> <td>   -0.850</td>\n",
       "</tr>\n",
       "<tr>\n",
       "  <th>gooutAlc</th>        <td>   -0.4383</td> <td>    0.235</td> <td>   -1.862</td> <td> 0.064</td> <td>   -0.901</td> <td>    0.025</td>\n",
       "</tr>\n",
       "<tr>\n",
       "  <th>sex</th>             <td>    1.0354</td> <td>    0.507</td> <td>    2.044</td> <td> 0.042</td> <td>    0.039</td> <td>    2.032</td>\n",
       "</tr>\n",
       "<tr>\n",
       "  <th>addressInternet</th> <td>    1.0168</td> <td>    0.519</td> <td>    1.960</td> <td> 0.051</td> <td>   -0.004</td> <td>    2.038</td>\n",
       "</tr>\n",
       "<tr>\n",
       "  <th>famsize</th>         <td>   -0.8687</td> <td>    0.510</td> <td>   -1.703</td> <td> 0.089</td> <td>   -1.872</td> <td>    0.135</td>\n",
       "</tr>\n",
       "<tr>\n",
       "  <th>schoolsup</th>       <td>   -1.5265</td> <td>    0.729</td> <td>   -2.094</td> <td> 0.037</td> <td>   -2.961</td> <td>   -0.092</td>\n",
       "</tr>\n",
       "<tr>\n",
       "  <th>higher</th>          <td>    1.3007</td> <td>    1.085</td> <td>    1.199</td> <td> 0.232</td> <td>   -0.834</td> <td>    3.436</td>\n",
       "</tr>\n",
       "<tr>\n",
       "  <th>romantic</th>        <td>   -1.2116</td> <td>    0.502</td> <td>   -2.414</td> <td> 0.016</td> <td>   -2.199</td> <td>   -0.224</td>\n",
       "</tr>\n",
       "<tr>\n",
       "  <th>Mjob_health</th>     <td>    1.5158</td> <td>    0.993</td> <td>    1.527</td> <td> 0.128</td> <td>   -0.438</td> <td>    3.470</td>\n",
       "</tr>\n",
       "<tr>\n",
       "  <th>Mjob_services</th>   <td>    1.2438</td> <td>    0.589</td> <td>    2.110</td> <td> 0.036</td> <td>    0.084</td> <td>    2.404</td>\n",
       "</tr>\n",
       "<tr>\n",
       "  <th>Mjob_teacher</th>    <td>   -1.1824</td> <td>    0.798</td> <td>   -1.482</td> <td> 0.139</td> <td>   -2.752</td> <td>    0.388</td>\n",
       "</tr>\n",
       "</table>\n",
       "<table class=\"simpletable\">\n",
       "<tr>\n",
       "  <th>Omnibus:</th>       <td>35.028</td> <th>  Durbin-Watson:     </th> <td>   1.927</td>\n",
       "</tr>\n",
       "<tr>\n",
       "  <th>Prob(Omnibus):</th> <td> 0.000</td> <th>  Jarque-Bera (JB):  </th> <td>  44.182</td>\n",
       "</tr>\n",
       "<tr>\n",
       "  <th>Skew:</th>          <td>-0.817</td> <th>  Prob(JB):          </th> <td>2.55e-10</td>\n",
       "</tr>\n",
       "<tr>\n",
       "  <th>Kurtosis:</th>      <td> 3.822</td> <th>  Cond. No.          </th> <td>    13.0</td>\n",
       "</tr>\n",
       "</table><br/><br/>Notes:<br/>[1] Standard Errors assume that the covariance matrix of the errors is correctly specified."
      ],
      "text/latex": [
       "\\begin{center}\n",
       "\\begin{tabular}{lclc}\n",
       "\\toprule\n",
       "\\textbf{Dep. Variable:}    &        G3        & \\textbf{  R-squared:         } &     0.259   \\\\\n",
       "\\textbf{Model:}            &       OLS        & \\textbf{  Adj. R-squared:    } &     0.227   \\\\\n",
       "\\textbf{Method:}           &  Least Squares   & \\textbf{  F-statistic:       } &     8.153   \\\\\n",
       "\\textbf{Date:}             & Fri, 01 Mar 2024 & \\textbf{  Prob (F-statistic):} &  4.66e-14   \\\\\n",
       "\\textbf{Time:}             &     11:55:22     & \\textbf{  Log-Likelihood:    } &   -891.00   \\\\\n",
       "\\textbf{No. Observations:} &         317      & \\textbf{  AIC:               } &     1810.   \\\\\n",
       "\\textbf{Df Residuals:}     &         303      & \\textbf{  BIC:               } &     1863.   \\\\\n",
       "\\textbf{Df Model:}         &          13      & \\textbf{                     } &             \\\\\n",
       "\\textbf{Covariance Type:}  &    nonrobust     & \\textbf{                     } &             \\\\\n",
       "\\bottomrule\n",
       "\\end{tabular}\n",
       "\\begin{tabular}{lcccccc}\n",
       "                         & \\textbf{coef} & \\textbf{std err} & \\textbf{t} & \\textbf{P$> |$t$|$} & \\textbf{[0.025} & \\textbf{0.975]}  \\\\\n",
       "\\midrule\n",
       "\\textbf{Intercept}       &       8.8889  &        1.275     &     6.970  &         0.000        &        6.379    &       11.398     \\\\\n",
       "\\textbf{Pedu}            &       0.5697  &        0.290     &     1.964  &         0.050        &       -0.001    &        1.140     \\\\\n",
       "\\textbf{studytime}       &       0.5042  &        0.254     &     1.986  &         0.048        &        0.005    &        1.004     \\\\\n",
       "\\textbf{failures}        &      -1.3959  &        0.278     &    -5.030  &         0.000        &       -1.942    &       -0.850     \\\\\n",
       "\\textbf{gooutAlc}        &      -0.4383  &        0.235     &    -1.862  &         0.064        &       -0.901    &        0.025     \\\\\n",
       "\\textbf{sex}             &       1.0354  &        0.507     &     2.044  &         0.042        &        0.039    &        2.032     \\\\\n",
       "\\textbf{addressInternet} &       1.0168  &        0.519     &     1.960  &         0.051        &       -0.004    &        2.038     \\\\\n",
       "\\textbf{famsize}         &      -0.8687  &        0.510     &    -1.703  &         0.089        &       -1.872    &        0.135     \\\\\n",
       "\\textbf{schoolsup}       &      -1.5265  &        0.729     &    -2.094  &         0.037        &       -2.961    &       -0.092     \\\\\n",
       "\\textbf{higher}          &       1.3007  &        1.085     &     1.199  &         0.232        &       -0.834    &        3.436     \\\\\n",
       "\\textbf{romantic}        &      -1.2116  &        0.502     &    -2.414  &         0.016        &       -2.199    &       -0.224     \\\\\n",
       "\\textbf{Mjob\\_health}    &       1.5158  &        0.993     &     1.527  &         0.128        &       -0.438    &        3.470     \\\\\n",
       "\\textbf{Mjob\\_services}  &       1.2438  &        0.589     &     2.110  &         0.036        &        0.084    &        2.404     \\\\\n",
       "\\textbf{Mjob\\_teacher}   &      -1.1824  &        0.798     &    -1.482  &         0.139        &       -2.752    &        0.388     \\\\\n",
       "\\bottomrule\n",
       "\\end{tabular}\n",
       "\\begin{tabular}{lclc}\n",
       "\\textbf{Omnibus:}       & 35.028 & \\textbf{  Durbin-Watson:     } &    1.927  \\\\\n",
       "\\textbf{Prob(Omnibus):} &  0.000 & \\textbf{  Jarque-Bera (JB):  } &   44.182  \\\\\n",
       "\\textbf{Skew:}          & -0.817 & \\textbf{  Prob(JB):          } & 2.55e-10  \\\\\n",
       "\\textbf{Kurtosis:}      &  3.822 & \\textbf{  Cond. No.          } &     13.0  \\\\\n",
       "\\bottomrule\n",
       "\\end{tabular}\n",
       "%\\caption{OLS Regression Results}\n",
       "\\end{center}\n",
       "\n",
       "Notes: \\newline\n",
       " [1] Standard Errors assume that the covariance matrix of the errors is correctly specified."
      ],
      "text/plain": [
       "<class 'statsmodels.iolib.summary.Summary'>\n",
       "\"\"\"\n",
       "                            OLS Regression Results                            \n",
       "==============================================================================\n",
       "Dep. Variable:                     G3   R-squared:                       0.259\n",
       "Model:                            OLS   Adj. R-squared:                  0.227\n",
       "Method:                 Least Squares   F-statistic:                     8.153\n",
       "Date:                Fri, 01 Mar 2024   Prob (F-statistic):           4.66e-14\n",
       "Time:                        11:55:22   Log-Likelihood:                -891.00\n",
       "No. Observations:                 317   AIC:                             1810.\n",
       "Df Residuals:                     303   BIC:                             1863.\n",
       "Df Model:                          13                                         \n",
       "Covariance Type:            nonrobust                                         \n",
       "===================================================================================\n",
       "                      coef    std err          t      P>|t|      [0.025      0.975]\n",
       "-----------------------------------------------------------------------------------\n",
       "Intercept           8.8889      1.275      6.970      0.000       6.379      11.398\n",
       "Pedu                0.5697      0.290      1.964      0.050      -0.001       1.140\n",
       "studytime           0.5042      0.254      1.986      0.048       0.005       1.004\n",
       "failures           -1.3959      0.278     -5.030      0.000      -1.942      -0.850\n",
       "gooutAlc           -0.4383      0.235     -1.862      0.064      -0.901       0.025\n",
       "sex                 1.0354      0.507      2.044      0.042       0.039       2.032\n",
       "addressInternet     1.0168      0.519      1.960      0.051      -0.004       2.038\n",
       "famsize            -0.8687      0.510     -1.703      0.089      -1.872       0.135\n",
       "schoolsup          -1.5265      0.729     -2.094      0.037      -2.961      -0.092\n",
       "higher              1.3007      1.085      1.199      0.232      -0.834       3.436\n",
       "romantic           -1.2116      0.502     -2.414      0.016      -2.199      -0.224\n",
       "Mjob_health         1.5158      0.993      1.527      0.128      -0.438       3.470\n",
       "Mjob_services       1.2438      0.589      2.110      0.036       0.084       2.404\n",
       "Mjob_teacher       -1.1824      0.798     -1.482      0.139      -2.752       0.388\n",
       "==============================================================================\n",
       "Omnibus:                       35.028   Durbin-Watson:                   1.927\n",
       "Prob(Omnibus):                  0.000   Jarque-Bera (JB):               44.182\n",
       "Skew:                          -0.817   Prob(JB):                     2.55e-10\n",
       "Kurtosis:                       3.822   Cond. No.                         13.0\n",
       "==============================================================================\n",
       "\n",
       "Notes:\n",
       "[1] Standard Errors assume that the covariance matrix of the errors is correctly specified.\n",
       "\"\"\""
      ]
     },
     "execution_count": 7,
     "metadata": {},
     "output_type": "execute_result"
    }
   ],
   "source": [
    "features = ['Pedu', 'studytime', 'failures', 'gooutAlc', 'sex', 'addressInternet', 'famsize', 'schoolsup', 'higher', 'romantic', 'Mjob_health', 'Mjob_services', 'Mjob_teacher']\n",
    "\n",
    "formula = 'G3 ~ '\n",
    "for feature in features:\n",
    "    formula += str(feature)+' + '    \n",
    "formula = formula[:-3]\n",
    "\n",
    "model = sm.OLS.from_formula(formula, data=df).fit()\n",
    "model.summary()\n",
    "    "
   ]
  },
  {
   "cell_type": "code",
   "execution_count": null,
   "metadata": {},
   "outputs": [],
   "source": [
    "import statsmodels.api as sm\n",
    "import matplotlib.pyplot as plt\n",
    "import seaborn as sns\n",
    "import numpy as np\n",
    "\n",
    "# Assuming you have already trained a linear regression model and obtained y_true, y_pred\n",
    "\n",
    "# Calculate residuals\n",
    "residuals = y_true - y_pred\n",
    "\n",
    "# Diagnostic plots using statsmodels\n",
    "fig, axes = plt.subplots(nrows=2, ncols=2, figsize=(12, 10))\n",
    "\n",
    "# Residuals vs. Fitted Values Plot\n",
    "sns.scatterplot(x=y_pred, y=residuals, ax=axes[0, 0])\n",
    "axes[0, 0].axhline(y=0, color='red', linestyle='--', linewidth=2)\n",
    "axes[0, 0].set_title('Residuals vs. Fitted Values')\n",
    "axes[0, 0].set_xlabel('Fitted Values')\n",
    "axes[0, 0].set_ylabel('Residuals')\n",
    "\n",
    "# Q-Q Plot\n",
    "sm.qqplot(residuals, line='s', ax=axes[0, 1])\n",
    "axes[0, 1].set_title('Q-Q Plot of Residuals')\n",
    "\n",
    "# Residuals Distribution Plot\n",
    "sns.histplot(residuals, bins=30, kde=True, ax=axes[1, 0])\n",
    "axes[1, 0].set_title('Distribution of Residuals')\n",
    "axes[1, 0].set_xlabel('Residuals')\n",
    "axes[1, 0].set_ylabel('Frequency')\n",
    "\n",
    "# Autocorrelation of Residuals\n",
    "sm.graphics.tsa.plot_acf(residuals, lags=20, ax=axes[1, 1])\n",
    "axes[1, 1].set_title('Autocorrelation of Residuals')\n",
    "\n",
    "plt.tight_layout()\n",
    "plt.show()"
   ]
  },
  {
   "cell_type": "markdown",
   "metadata": {},
   "source": [
    "## Regularization"
   ]
  },
  {
   "cell_type": "code",
   "execution_count": 8,
   "metadata": {},
   "outputs": [
    {
     "name": "stdout",
     "output_type": "stream",
     "text": [
      "Linear Regression: \tMSE: -18.087597631273965 \tR2: 0.11322018338269296\n"
     ]
    }
   ],
   "source": [
    "\n",
    "model = LinearRegression()\n",
    "\n",
    "mse = cross_val_score(model, X[features], y, cv=8, scoring='neg_mean_squared_error')\n",
    "r2 = cross_val_score(model, X[features], y, cv=8, scoring='r2')\n",
    "\n",
    "print(f\"Linear Regression: \\tMSE: {mse.mean()} \\tR2: {r2.mean()}\")\n"
   ]
  },
  {
   "cell_type": "code",
   "execution_count": 9,
   "metadata": {},
   "outputs": [
    {
     "name": "stdout",
     "output_type": "stream",
     "text": [
      "Ridge Regression 0.01: \tMSE: -18.087117045608313 \tR2: 0.1132502949739115\n",
      "Ridge Regression 0.02: \tMSE: -18.086637344808324 \tR2: 0.11328036040081474\n",
      "Ridge Regression 0.05: \tMSE: -18.085203529641483 \tR2: 0.11337028078942776\n",
      "Ridge Regression 0.1: \tMSE: -18.08283133119602 \tR2: 0.11351923496983006\n",
      "Ridge Regression 0.5: \tMSE: -18.06461090172617 \tR2: 0.11467127548681195\n",
      "Ridge Regression 1: \tMSE: -18.043591347036724 \tR2: 0.11601918039904684\n",
      "Ridge Regression 2: \tMSE: -18.006624958878025 \tR2: 0.11844693470968046\n",
      "Ridge Regression 10: \tMSE: -17.85215469958127 \tR2: 0.1301875039182286\n",
      "Ridge Regression 100: \tMSE: -18.170688526420857 \tR2: 0.1329238322335178\n",
      "Ridge Regression 200: \tMSE: -18.63982938220242 \tR2: 0.11691935335679235\n",
      "Ridge Regression 500: \tMSE: -19.567766266690995 \tR2: 0.07926658270815543\n",
      "Ridge Regression 1000: \tMSE: -20.351770518462317 \tR2: 0.04495718813595395\n"
     ]
    }
   ],
   "source": [
    "for alpha in [0.01, 0.02, 0.05, 0.1, 0.5, 1, 2, 10, 100, 200, 500, 1000]:\n",
    "\n",
    "    model = Ridge(alpha=alpha)\n",
    "    mse = cross_val_score(model, X[features], y, cv=8, scoring='neg_mean_squared_error')\n",
    "    r2 = cross_val_score(model, X[features], y, cv=8, scoring='r2')\n",
    "    print(f\"Ridge Regression {alpha}: \\tMSE: {mse.mean()} \\tR2: {r2.mean()}\")\n",
    "\n",
    "# best value is 100\n"
   ]
  },
  {
   "cell_type": "code",
   "execution_count": 10,
   "metadata": {},
   "outputs": [
    {
     "name": "stdout",
     "output_type": "stream",
     "text": [
      "Lasso Regression 0.01: \tMSE: -18.0955563152692 \tR2: 0.114360203715619\n",
      "Lasso Regression 0.02: \tMSE: -18.12084172475374 \tR2: 0.11462574014657302\n",
      "Lasso Regression 0.05: \tMSE: -18.270402598480885 \tR2: 0.11153069990242914\n",
      "Lasso Regression 0.1: \tMSE: -18.57529192965181 \tR2: 0.10273301944107371\n",
      "Lasso Regression 0.5: \tMSE: -19.499778517114386 \tR2: 0.07448754005803356\n",
      "Lasso Regression 1: \tMSE: -20.292569726832596 \tR2: 0.04568386624011972\n",
      "Lasso Regression 2: \tMSE: -22.020576274196017 \tR2: -0.03114964777584156\n",
      "Lasso Regression 10: \tMSE: -22.020576274196017 \tR2: -0.03114964777584156\n",
      "Lasso Regression 100: \tMSE: -22.020576274196017 \tR2: -0.03114964777584156\n",
      "Lasso Regression 200: \tMSE: -22.020576274196017 \tR2: -0.03114964777584156\n",
      "Lasso Regression 500: \tMSE: -22.020576274196017 \tR2: -0.03114964777584156\n",
      "Lasso Regression 1000: \tMSE: -22.020576274196017 \tR2: -0.03114964777584156\n"
     ]
    }
   ],
   "source": [
    "for alpha in [0.01, 0.02, 0.05, 0.1, 0.5, 1, 2, 10, 100, 200, 500, 1000]:\n",
    "\n",
    "    model = Lasso(alpha=alpha)\n",
    "    mse = cross_val_score(model, X[features], y, cv=8, scoring='neg_mean_squared_error')\n",
    "    r2 = cross_val_score(model, X[features], y, cv=8, scoring='r2')\n",
    "    print(f\"Lasso Regression {alpha}: \\tMSE: {mse.mean()} \\tR2: {r2.mean()}\")\n",
    "\n",
    "# best value is 0.02"
   ]
  },
  {
   "cell_type": "code",
   "execution_count": 11,
   "metadata": {},
   "outputs": [
    {
     "data": {
      "text/plain": [
       "array([-0.29553538,  0.43371421, -0.09898889,  0.46558743, -1.385758  ,\n",
       "        0.26214492, -0.38208539, -0.19807218,  0.85492565,  0.77947434,\n",
       "       -0.86847636,  0.51793064, -1.516625  ,  0.16464243, -0.59320881,\n",
       "        0.6069646 , -1.0571554 , -0.29558312,  1.30259091,  1.12725536,\n",
       "       -0.99759212,  0.3246138 , -0.        , -0.08862717,  0.88662754,\n",
       "       -0.20355869, -0.18136185, -0.        ])"
      ]
     },
     "execution_count": 11,
     "metadata": {},
     "output_type": "execute_result"
    }
   ],
   "source": [
    "model = Lasso(alpha=0.02)\n",
    "model.fit(X, y)\n",
    "model.coef_"
   ]
  },
  {
   "cell_type": "code",
   "execution_count": 12,
   "metadata": {},
   "outputs": [
    {
     "name": "stdout",
     "output_type": "stream",
     "text": [
      "ElasticNet Regression 50 \t0.0005: \tMSE: -21.847900594543002 \tR2: -0.02315216574503566\n",
      "ElasticNet Regression 50 \t0.001: \tMSE: -21.853304554870146 \tR2: -0.023400449229186604\n",
      "ElasticNet Regression 50 \t0.005: \tMSE: -21.892523969280006 \tR2: -0.025200303829682164\n",
      "ElasticNet Regression 50 \t0.01: \tMSE: -21.930960085176583 \tR2: -0.026973953678276097\n",
      "ElasticNet Regression 75 \t0.0005: \tMSE: -21.90589587195459 \tR2: -0.02583525589958137\n",
      "ElasticNet Regression 75 \t0.001: \tMSE: -21.91141854502515 \tR2: -0.02608921103687427\n",
      "ElasticNet Regression 75 \t0.005: \tMSE: -21.948354836130193 \tR2: -0.02778778334592008\n",
      "ElasticNet Regression 75 \t0.01: \tMSE: -21.978575200036108 \tR2: -0.029196811084533397\n",
      "ElasticNet Regression 100 \t0.0005: \tMSE: -21.935447342917413 \tR2: -0.02720330759374749\n",
      "ElasticNet Regression 100 \t0.001: \tMSE: -21.94099669554612 \tR2: -0.027458695451516038\n",
      "ElasticNet Regression 100 \t0.005: \tMSE: -21.975269325830297 \tR2: -0.029037354926492412\n",
      "ElasticNet Regression 100 \t0.01: \tMSE: -22.000027696318813 \tR2: -0.030189340438734905\n",
      "ElasticNet Regression 125 \t0.0005: \tMSE: -21.953353246735112 \tR2: -0.028032539622654493\n",
      "ElasticNet Regression 125 \t0.001: \tMSE: -21.95887066761488 \tR2: -0.02828663695945695\n",
      "ElasticNet Regression 125 \t0.005: \tMSE: -21.990192270007327 \tR2: -0.029736028067914963\n",
      "ElasticNet Regression 125 \t0.01: \tMSE: -22.01091259477503 \tR2: -0.03069038410334156\n",
      "ElasticNet Regression 150 \t0.0005: \tMSE: -21.965354069948546 \tR2: -0.028588504689625996\n",
      "ElasticNet Regression 150 \t0.001: \tMSE: -21.97079475553837 \tR2: -0.028838818833180818\n",
      "ElasticNet Regression 150 \t0.005: \tMSE: -21.999487389428158 \tR2: -0.030168829843360723\n",
      "ElasticNet Regression 150 \t0.01: \tMSE: -22.01808728300133 \tR2: -0.03102002392296825\n",
      "ElasticNet Regression 175 \t0.0005: \tMSE: -21.97396046094 \tR2: -0.028987282550886354\n",
      "ElasticNet Regression 175 \t0.001: \tMSE: -21.9792280364127 \tR2: -0.029229200841570574\n",
      "ElasticNet Regression 175 \t0.005: \tMSE: -22.00594191951 \tR2: -0.030467050821470318\n",
      "ElasticNet Regression 175 \t0.01: \tMSE: -22.020453479421196 \tR2: -0.03114216128970021\n",
      "ElasticNet Regression 200 \t0.0005: \tMSE: -21.980438599983465 \tR2: -0.029287446162478317\n",
      "ElasticNet Regression 200 \t0.001: \tMSE: -21.985512754738078 \tR2: -0.029520392013880237\n",
      "ElasticNet Regression 200 \t0.005: \tMSE: -22.010294585025182 \tR2: -0.03066906330308375\n",
      "ElasticNet Regression 200 \t0.01: \tMSE: -22.020576274196017 \tR2: -0.03114964777584156\n"
     ]
    }
   ],
   "source": [
    "for alpha in [50, 75, 100, 125, 150, 175, 200]:\n",
    "    for l1_ratio in [0.0005, 0.001, 0.005, 0.01]:\n",
    "\n",
    "        model = ElasticNet(alpha=alpha, l1_ratio=l1_ratio)\n",
    "        mse = cross_val_score(model, X[features], y, cv=8, scoring='neg_mean_squared_error')\n",
    "        r2 = cross_val_score(model, X[features], y, cv=8, scoring='r2')\n",
    "        print(f\"ElasticNet Regression {alpha} \\t{l1_ratio}: \\tMSE: {mse.mean()} \\tR2: {r2.mean()}\")\n"
   ]
  },
  {
   "cell_type": "markdown",
   "metadata": {},
   "source": [
    "## PCA components"
   ]
  },
  {
   "cell_type": "code",
   "execution_count": 13,
   "metadata": {},
   "outputs": [],
   "source": [
    "import numpy as np\n",
    "\n",
    "from sklearn.decomposition import PCA"
   ]
  },
  {
   "cell_type": "markdown",
   "metadata": {},
   "source": [
    "### Full dataset"
   ]
  },
  {
   "cell_type": "code",
   "execution_count": 14,
   "metadata": {},
   "outputs": [
    {
     "data": {
      "image/png": "[encoded data removed]",
      "text/plain": [
       "<Figure size 640x480 with 1 Axes>"
      ]
     },
     "metadata": {},
     "output_type": "display_data"
    }
   ],
   "source": [
    "pca = PCA()\n",
    "pca_result = pca.fit_transform(X)\n",
    "\n",
    "# Creazione del grafico con le varianze cumulative\n",
    "cumulative_variance = np.cumsum(pca.explained_variance_ratio_)\n",
    "\n",
    "pca_result.shape\n",
    "plt.plot(range(1, len(cumulative_variance) + 1), cumulative_variance, marker='o', linestyle='-', color='b')\n",
    "plt.title('Varianza Cumulativa nei Componenti Principali')\n",
    "plt.xlabel('Numero di Componenti Principali')\n",
    "plt.ylabel('Varianza Cumulativa')\n",
    "plt.show()"
   ]
  },
  {
   "cell_type": "code",
   "execution_count": 28,
   "metadata": {},
   "outputs": [],
   "source": [
    "X_pca = pca_result[:,:7]"
   ]
  },
  {
   "cell_type": "code",
   "execution_count": 29,
   "metadata": {},
   "outputs": [
    {
     "name": "stdout",
     "output_type": "stream",
     "text": [
      "Linear Regression: \tMSE: -19.35710113500891 \tR2: 0.06883574776322338\n"
     ]
    }
   ],
   "source": [
    "\n",
    "model = LinearRegression()\n",
    "\n",
    "mse = cross_val_score(model, X_pca, y, cv=8, scoring='neg_mean_squared_error')\n",
    "r2 = cross_val_score(model, X_pca, y, cv=8, scoring='r2')\n",
    "\n",
    "print(f\"Linear Regression: \\tMSE: {mse.mean()} \\tR2: {r2.mean()}\")"
   ]
  },
  {
   "cell_type": "code",
   "execution_count": 30,
   "metadata": {},
   "outputs": [
    {
     "name": "stdout",
     "output_type": "stream",
     "text": [
      "Ridge Regression 200: \tMSE: -19.18059602833271 \tR2: 0.08471665208980707\n"
     ]
    }
   ],
   "source": [
    "model = Ridge(alpha=100)\n",
    "\n",
    "mse = cross_val_score(model, X_pca, y, cv=8, scoring='neg_mean_squared_error')\n",
    "r2 = cross_val_score(model, X_pca, y, cv=8, scoring='r2')\n",
    "\n",
    "print(f\"Ridge Regression {alpha}: \\tMSE: {mse.mean()} \\tR2: {r2.mean()}\")"
   ]
  },
  {
   "cell_type": "markdown",
   "metadata": {},
   "source": [
    "### Selected features"
   ]
  },
  {
   "cell_type": "code",
   "execution_count": 32,
   "metadata": {},
   "outputs": [
    {
     "data": {
      "image/png": "[encoded data removed]",
      "text/plain": [
       "<Figure size 640x480 with 1 Axes>"
      ]
     },
     "metadata": {},
     "output_type": "display_data"
    }
   ],
   "source": [
    "pca = PCA()\n",
    "pca_result = pca.fit_transform(X[features])\n",
    "\n",
    "# Creazione del grafico con le varianze cumulative\n",
    "cumulative_variance = np.cumsum(pca.explained_variance_ratio_)\n",
    "\n",
    "pca_result.shape\n",
    "plt.plot(range(1, len(cumulative_variance) + 1), cumulative_variance, marker='o', linestyle='-', color='b')\n",
    "plt.title('Varianza Cumulativa nei Componenti Principali')\n",
    "plt.xlabel('Numero di Componenti Principali')\n",
    "plt.ylabel('Varianza Cumulativa')\n",
    "plt.show()"
   ]
  },
  {
   "cell_type": "code",
   "execution_count": 33,
   "metadata": {},
   "outputs": [],
   "source": [
    "X_pca = pca_result[:,:3]"
   ]
  },
  {
   "cell_type": "code",
   "execution_count": 34,
   "metadata": {},
   "outputs": [
    {
     "name": "stdout",
     "output_type": "stream",
     "text": [
      "Linear Regression: \tMSE: -19.211104796378727 \tR2: 0.08747178615881984\n"
     ]
    }
   ],
   "source": [
    "\n",
    "model = LinearRegression()\n",
    "\n",
    "mse = cross_val_score(model, X_pca, y, cv=8, scoring='neg_mean_squared_error')\n",
    "r2 = cross_val_score(model, X_pca, y, cv=8, scoring='r2')\n",
    "\n",
    "print(f\"Linear Regression: \\tMSE: {mse.mean()} \\tR2: {r2.mean()}\")"
   ]
  },
  {
   "cell_type": "code",
   "execution_count": 35,
   "metadata": {},
   "outputs": [
    {
     "name": "stdout",
     "output_type": "stream",
     "text": [
      "Ridge Regression 200: \tMSE: -19.218921244074416 \tR2: 0.0919755916471174\n"
     ]
    }
   ],
   "source": [
    "model = Ridge(alpha=100)\n",
    "\n",
    "mse = cross_val_score(model, X_pca, y, cv=8, scoring='neg_mean_squared_error')\n",
    "r2 = cross_val_score(model, X_pca, y, cv=8, scoring='r2')\n",
    "\n",
    "print(f\"Ridge Regression {alpha}: \\tMSE: {mse.mean()} \\tR2: {r2.mean()}\")"
   ]
  },
  {
   "cell_type": "code",
   "execution_count": null,
   "metadata": {},
   "outputs": [],
   "source": []
  },
  {
   "cell_type": "code",
   "execution_count": null,
   "metadata": {},
   "outputs": [],
   "source": []
  },
  {
   "cell_type": "code",
   "execution_count": null,
   "metadata": {},
   "outputs": [],
   "source": []
  },
  {
   "cell_type": "code",
   "execution_count": null,
   "metadata": {},
   "outputs": [],
   "source": []
  }
 ],
 "metadata": {
  "kernelspec": {
   "display_name": "neural-networks-_F4AaA2c-py3.10",
   "language": "python",
   "name": "python3"
  },
  "language_info": {
   "codemirror_mode": {
    "name": "ipython",
    "version": 3
   },
   "file_extension": ".py",
   "mimetype": "text/x-python",
   "name": "python",
   "nbconvert_exporter": "python",
   "pygments_lexer": "ipython3",
   "version": "3.10.13"
  }
 },
 "nbformat": 4,
 "nbformat_minor": 2
}
