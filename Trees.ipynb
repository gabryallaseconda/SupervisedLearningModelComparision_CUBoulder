{
 "cells": [
  {
   "cell_type": "markdown",
   "metadata": {},
   "source": [
    "# Trees Model Regressions"
   ]
  },
  {
   "cell_type": "markdown",
   "metadata": {},
   "source": [
    "## Packages"
   ]
  },
  {
   "cell_type": "code",
   "execution_count": 6,
   "metadata": {},
   "outputs": [],
   "source": [
    "import pandas as pd\n",
    "\n",
    "from sklearn.model_selection import cross_val_score, GridSearchCV\n",
    "from sklearn.tree import DecisionTreeRegressor\n",
    "from sklearn.ensemble import RandomForestRegressor, GradientBoostingRegressor\n",
    "\n",
    "import matplotlib.pyplot as plt\n",
    "\n"
   ]
  },
  {
   "cell_type": "markdown",
   "metadata": {},
   "source": [
    "## Import Data"
   ]
  },
  {
   "cell_type": "code",
   "execution_count": 7,
   "metadata": {},
   "outputs": [
    {
     "data": {
      "text/html": [
       "<div>\n",
       "<style scoped>\n",
       "    .dataframe tbody tr th:only-of-type {\n",
       "        vertical-align: middle;\n",
       "    }\n",
       "\n",
       "    .dataframe tbody tr th {\n",
       "        vertical-align: top;\n",
       "    }\n",
       "\n",
       "    .dataframe thead th {\n",
       "        text-align: right;\n",
       "    }\n",
       "</style>\n",
       "<table border=\"1\" class=\"dataframe\">\n",
       "  <thead>\n",
       "    <tr style=\"text-align: right;\">\n",
       "      <th></th>\n",
       "      <th>age</th>\n",
       "      <th>Pedu</th>\n",
       "      <th>traveltime</th>\n",
       "      <th>studytime</th>\n",
       "      <th>failures</th>\n",
       "      <th>famrel</th>\n",
       "      <th>gooutAlc</th>\n",
       "      <th>health</th>\n",
       "      <th>sex</th>\n",
       "      <th>addressInternet</th>\n",
       "      <th>...</th>\n",
       "      <th>Mjob_services</th>\n",
       "      <th>Mjob_teacher</th>\n",
       "      <th>Fjob_at_home</th>\n",
       "      <th>Fjob_health</th>\n",
       "      <th>Fjob_services</th>\n",
       "      <th>Fjob_teacher</th>\n",
       "      <th>reason_course</th>\n",
       "      <th>reason_home</th>\n",
       "      <th>reason_reputation</th>\n",
       "      <th>G3</th>\n",
       "    </tr>\n",
       "  </thead>\n",
       "  <tbody>\n",
       "    <tr>\n",
       "      <th>0</th>\n",
       "      <td>1.021751</td>\n",
       "      <td>-0.940091</td>\n",
       "      <td>-0.642435</td>\n",
       "      <td>-1.233786</td>\n",
       "      <td>0.895343</td>\n",
       "      <td>-1.053136</td>\n",
       "      <td>1.570863</td>\n",
       "      <td>1.039751</td>\n",
       "      <td>1</td>\n",
       "      <td>1</td>\n",
       "      <td>...</td>\n",
       "      <td>1</td>\n",
       "      <td>0</td>\n",
       "      <td>0</td>\n",
       "      <td>0</td>\n",
       "      <td>1</td>\n",
       "      <td>0</td>\n",
       "      <td>0</td>\n",
       "      <td>0</td>\n",
       "      <td>0</td>\n",
       "      <td>8</td>\n",
       "    </tr>\n",
       "    <tr>\n",
       "      <th>1</th>\n",
       "      <td>0.238078</td>\n",
       "      <td>-0.940091</td>\n",
       "      <td>-0.642435</td>\n",
       "      <td>-0.042232</td>\n",
       "      <td>-0.449374</td>\n",
       "      <td>0.062115</td>\n",
       "      <td>1.570863</td>\n",
       "      <td>0.320484</td>\n",
       "      <td>1</td>\n",
       "      <td>1</td>\n",
       "      <td>...</td>\n",
       "      <td>0</td>\n",
       "      <td>0</td>\n",
       "      <td>0</td>\n",
       "      <td>0</td>\n",
       "      <td>0</td>\n",
       "      <td>0</td>\n",
       "      <td>0</td>\n",
       "      <td>1</td>\n",
       "      <td>0</td>\n",
       "      <td>13</td>\n",
       "    </tr>\n",
       "    <tr>\n",
       "      <th>2</th>\n",
       "      <td>0.238078</td>\n",
       "      <td>-0.940091</td>\n",
       "      <td>0.791247</td>\n",
       "      <td>-0.042232</td>\n",
       "      <td>-0.449374</td>\n",
       "      <td>0.062115</td>\n",
       "      <td>0.657033</td>\n",
       "      <td>1.039751</td>\n",
       "      <td>0</td>\n",
       "      <td>1</td>\n",
       "      <td>...</td>\n",
       "      <td>1</td>\n",
       "      <td>0</td>\n",
       "      <td>0</td>\n",
       "      <td>0</td>\n",
       "      <td>0</td>\n",
       "      <td>0</td>\n",
       "      <td>1</td>\n",
       "      <td>0</td>\n",
       "      <td>0</td>\n",
       "      <td>12</td>\n",
       "    </tr>\n",
       "    <tr>\n",
       "      <th>3</th>\n",
       "      <td>-0.545595</td>\n",
       "      <td>1.024650</td>\n",
       "      <td>-0.642435</td>\n",
       "      <td>-1.233786</td>\n",
       "      <td>-0.449374</td>\n",
       "      <td>-1.053136</td>\n",
       "      <td>-1.170628</td>\n",
       "      <td>1.039751</td>\n",
       "      <td>1</td>\n",
       "      <td>1</td>\n",
       "      <td>...</td>\n",
       "      <td>0</td>\n",
       "      <td>1</td>\n",
       "      <td>0</td>\n",
       "      <td>0</td>\n",
       "      <td>0</td>\n",
       "      <td>1</td>\n",
       "      <td>1</td>\n",
       "      <td>0</td>\n",
       "      <td>0</td>\n",
       "      <td>0</td>\n",
       "    </tr>\n",
       "    <tr>\n",
       "      <th>4</th>\n",
       "      <td>1.805423</td>\n",
       "      <td>-1.922461</td>\n",
       "      <td>-0.642435</td>\n",
       "      <td>-0.042232</td>\n",
       "      <td>0.895343</td>\n",
       "      <td>0.062115</td>\n",
       "      <td>-0.256798</td>\n",
       "      <td>-0.398784</td>\n",
       "      <td>0</td>\n",
       "      <td>1</td>\n",
       "      <td>...</td>\n",
       "      <td>0</td>\n",
       "      <td>0</td>\n",
       "      <td>0</td>\n",
       "      <td>0</td>\n",
       "      <td>0</td>\n",
       "      <td>0</td>\n",
       "      <td>0</td>\n",
       "      <td>0</td>\n",
       "      <td>1</td>\n",
       "      <td>10</td>\n",
       "    </tr>\n",
       "  </tbody>\n",
       "</table>\n",
       "<p>5 rows × 29 columns</p>\n",
       "</div>"
      ],
      "text/plain": [
       "        age      Pedu  traveltime  studytime  failures    famrel  gooutAlc  \\\n",
       "0  1.021751 -0.940091   -0.642435  -1.233786  0.895343 -1.053136  1.570863   \n",
       "1  0.238078 -0.940091   -0.642435  -0.042232 -0.449374  0.062115  1.570863   \n",
       "2  0.238078 -0.940091    0.791247  -0.042232 -0.449374  0.062115  0.657033   \n",
       "3 -0.545595  1.024650   -0.642435  -1.233786 -0.449374 -1.053136 -1.170628   \n",
       "4  1.805423 -1.922461   -0.642435  -0.042232  0.895343  0.062115 -0.256798   \n",
       "\n",
       "     health  sex  addressInternet  ...  Mjob_services  Mjob_teacher  \\\n",
       "0  1.039751    1                1  ...              1             0   \n",
       "1  0.320484    1                1  ...              0             0   \n",
       "2  1.039751    0                1  ...              1             0   \n",
       "3  1.039751    1                1  ...              0             1   \n",
       "4 -0.398784    0                1  ...              0             0   \n",
       "\n",
       "   Fjob_at_home  Fjob_health  Fjob_services  Fjob_teacher  reason_course  \\\n",
       "0             0            0              1             0              0   \n",
       "1             0            0              0             0              0   \n",
       "2             0            0              0             0              1   \n",
       "3             0            0              0             1              1   \n",
       "4             0            0              0             0              0   \n",
       "\n",
       "   reason_home  reason_reputation  G3  \n",
       "0            0                  0   8  \n",
       "1            1                  0  13  \n",
       "2            0                  0  12  \n",
       "3            0                  0   0  \n",
       "4            0                  1  10  \n",
       "\n",
       "[5 rows x 29 columns]"
      ]
     },
     "execution_count": 7,
     "metadata": {},
     "output_type": "execute_result"
    }
   ],
   "source": [
    "df = pd.read_csv('train_df.csv')\n",
    "df.head()"
   ]
  },
  {
   "cell_type": "code",
   "execution_count": 8,
   "metadata": {},
   "outputs": [],
   "source": [
    "X = df.drop(['G3'], axis = 1)\n",
    "y = df[['G3']]"
   ]
  },
  {
   "cell_type": "markdown",
   "metadata": {},
   "source": [
    "## Decision Tree"
   ]
  },
  {
   "cell_type": "code",
   "execution_count": 9,
   "metadata": {},
   "outputs": [
    {
     "name": "stdout",
     "output_type": "stream",
     "text": [
      "Decision Tree: \tMSE: -45.330268429487184 \tR2: -1.1571315375868862\n"
     ]
    }
   ],
   "source": [
    "model = DecisionTreeRegressor()\n",
    "\n",
    "mse = cross_val_score(model, X, y, cv=8, scoring='neg_mean_squared_error')\n",
    "r2 = cross_val_score(model, X, y, cv=8, scoring='r2')\n",
    "\n",
    "print(f\"Decision Tree: \\tMSE: {mse.mean()} \\tR2: {r2.mean()}\")"
   ]
  },
  {
   "cell_type": "code",
   "execution_count": 10,
   "metadata": {},
   "outputs": [
    {
     "data": {
      "text/plain": [
       "{'ccp_alpha': 0.01,\n",
       " 'max_depth': 3,\n",
       " 'max_features': 'sqrt',\n",
       " 'min_impurity_decrease': 0.01,\n",
       " 'min_samples_leaf': 2,\n",
       " 'min_samples_split': 2}"
      ]
     },
     "execution_count": 10,
     "metadata": {},
     "output_type": "execute_result"
    }
   ],
   "source": [
    "# Define the hyperparameter grid\n",
    "param_grid = {\n",
    "    'max_depth': [3, 5, 7],\n",
    "    'min_samples_split': [2, 5, 10],\n",
    "    'min_samples_leaf': [1, 2, 4],\n",
    "    'max_features': [None, 'sqrt', 'log2'],\n",
    "    'min_impurity_decrease': [0.0, 0.01, 0.05],\n",
    "    'ccp_alpha': [0.0, 0.01, 0.05]\n",
    "}\n",
    "\n",
    "# Use grid search to find the best hyperparameters\n",
    "grid_search = GridSearchCV(model, param_grid, cv=8, scoring = 'r2')\n",
    "grid_search.fit(X, y)\n",
    "\n",
    "\n",
    "grid_search.best_params_\n"
   ]
  },
  {
   "cell_type": "code",
   "execution_count": 11,
   "metadata": {},
   "outputs": [
    {
     "data": {
      "text/plain": [
       "{'ccp_alpha': 0.01,\n",
       " 'max_depth': 3,\n",
       " 'max_features': 'log2',\n",
       " 'min_impurity_decrease': 0.15,\n",
       " 'min_samples_leaf': 1,\n",
       " 'min_samples_split': 4}"
      ]
     },
     "execution_count": 11,
     "metadata": {},
     "output_type": "execute_result"
    }
   ],
   "source": [
    "# Define the hyperparameter grid\n",
    "param_grid = {\n",
    "    'max_depth': [1,2,3,4],\n",
    "    'min_samples_split': [4, 5, 6],\n",
    "    'min_samples_leaf': [1, 2, 4],\n",
    "    'max_features': [None, 'sqrt', 'log2'],\n",
    "    'min_impurity_decrease': [0.0, 0.01, 0.05, 0.1, 0.15],\n",
    "    'ccp_alpha': [0.0, 0.01]\n",
    "}\n",
    "\n",
    "# Use grid search to find the best hyperparameters\n",
    "grid_search = GridSearchCV(model, param_grid, cv=8, scoring = 'r2')\n",
    "grid_search.fit(X, y)\n",
    "\n",
    "\n",
    "grid_search.best_params_"
   ]
  },
  {
   "cell_type": "code",
   "execution_count": 12,
   "metadata": {},
   "outputs": [
    {
     "name": "stdout",
     "output_type": "stream",
     "text": [
      "Decision Tree: \tMSE: -19.17128234542287 \tR2: 0.09058720982513556\n"
     ]
    }
   ],
   "source": [
    "model = DecisionTreeRegressor(\n",
    "        max_depth = 1,\n",
    "        max_features = None,\n",
    "        min_samples_leaf = 1,\n",
    "        min_samples_split = 4,\n",
    "        min_impurity_decrease = 0.0,\n",
    "        ccp_alpha= 0.0,)\n",
    "\n",
    "mse = cross_val_score(model, X, y, cv=8, scoring='neg_mean_squared_error')\n",
    "r2 = cross_val_score(model, X, y, cv=8, scoring='r2')\n",
    "\n",
    "print(f\"Decision Tree: \\tMSE: {mse.mean()} \\tR2: {r2.mean()}\")"
   ]
  },
  {
   "cell_type": "markdown",
   "metadata": {},
   "source": [
    "Here we try the same model but using feature selected in the backward eliminaiton unsing linear models: here we can see that we obtain the same result as the previous model!"
   ]
  },
  {
   "cell_type": "code",
   "execution_count": 13,
   "metadata": {},
   "outputs": [
    {
     "name": "stdout",
     "output_type": "stream",
     "text": [
      "Decision Tree: \tMSE: -19.17128234542287 \tR2: 0.09058720982513556\n"
     ]
    }
   ],
   "source": [
    "features = ['Pedu', 'studytime', 'failures', 'gooutAlc', 'sex', 'addressInternet', 'famsize', 'schoolsup', 'higher', 'romantic', 'Mjob_health', 'Mjob_services', 'Mjob_teacher']\n",
    "model = DecisionTreeRegressor(\n",
    "        max_depth = 1,\n",
    "        max_features = None,\n",
    "        min_samples_leaf = 1,\n",
    "        min_samples_split = 4,\n",
    "        min_impurity_decrease = 0.0,\n",
    "        ccp_alpha= 0.0,)\n",
    "\n",
    "mse = cross_val_score(model, X[features], y, cv=8, scoring='neg_mean_squared_error')\n",
    "r2 = cross_val_score(model, X[features], y, cv=8, scoring='r2')\n",
    "\n",
    "print(f\"Decision Tree: \\tMSE: {mse.mean()} \\tR2: {r2.mean()}\")\n",
    "\n",
    "# Embedded feature selection!"
   ]
  },
  {
   "cell_type": "markdown",
   "metadata": {},
   "source": [
    "## Random Forest"
   ]
  },
  {
   "cell_type": "code",
   "execution_count": 14,
   "metadata": {},
   "outputs": [
    {
     "name": "stdout",
     "output_type": "stream",
     "text": [
      "Random Forest: \tMSE: -20.692394900921474 \tR2: 0.040998844753737884\n"
     ]
    }
   ],
   "source": [
    "\n",
    "model = RandomForestRegressor()\n",
    "\n",
    "mse = cross_val_score(model, X, y.values.ravel(), cv=8, scoring='neg_mean_squared_error')\n",
    "r2 = cross_val_score(model, X, y.values.ravel(), cv=8, scoring='r2')\n",
    "\n",
    "print(f\"Random Forest: \\tMSE: {mse.mean()} \\tR2: {r2.mean()}\")\n",
    "\n"
   ]
  },
  {
   "cell_type": "code",
   "execution_count": 15,
   "metadata": {},
   "outputs": [
    {
     "data": {
      "text/plain": [
       "{'max_depth': 40,\n",
       " 'max_features': 'sqrt',\n",
       " 'min_samples_leaf': 2,\n",
       " 'min_samples_split': 2,\n",
       " 'n_estimators': 50}"
      ]
     },
     "execution_count": 15,
     "metadata": {},
     "output_type": "execute_result"
    }
   ],
   "source": [
    "model = RandomForestRegressor()\n",
    "\n",
    "param_grid = {\n",
    "    'n_estimators': [50, 100, 200, 300],\n",
    "    'max_depth': [5, 10, 20, 40],\n",
    "    'min_samples_split': [2, 5, 10],\n",
    "    'min_samples_leaf': [1, 2, 4],\n",
    "    'max_features': ['sqrt', 'log2']\n",
    "}\n",
    "\n",
    "# Use grid search to find the best hyperparameters\n",
    "grid_search = GridSearchCV(model, param_grid, cv=5, scoring = 'r2')\n",
    "grid_search.fit(X, y.values.ravel())\n",
    "\n",
    "grid_search.best_params_"
   ]
  },
  {
   "cell_type": "code",
   "execution_count": 16,
   "metadata": {},
   "outputs": [
    {
     "name": "stdout",
     "output_type": "stream",
     "text": [
      "Random Forest: \tMSE: -18.893458900066932 \tR2: 0.1251259314323543\n"
     ]
    }
   ],
   "source": [
    "model = RandomForestRegressor(\n",
    "    max_depth = 40,\n",
    "    max_features = 'log2',\n",
    "    min_samples_leaf = 2,\n",
    "    min_samples_split = 10,\n",
    "    n_estimators = 50\n",
    ")\n",
    "\n",
    "mse = cross_val_score(model, X, y.values.ravel(), cv=8, scoring='neg_mean_squared_error')\n",
    "r2 = cross_val_score(model, X, y.values.ravel(), cv=8, scoring='r2')\n",
    "\n",
    "print(f\"Random Forest: \\tMSE: {mse.mean()} \\tR2: {r2.mean()}\")"
   ]
  },
  {
   "cell_type": "markdown",
   "metadata": {},
   "source": [
    "## Gradient Boosting"
   ]
  },
  {
   "cell_type": "code",
   "execution_count": 17,
   "metadata": {},
   "outputs": [
    {
     "name": "stdout",
     "output_type": "stream",
     "text": [
      "Gradient Boosting: \tMSE: -22.268362919222575 \tR2: -0.07950414677187043\n"
     ]
    }
   ],
   "source": [
    "model = GradientBoostingRegressor()\n",
    "\n",
    "mse = cross_val_score(model, X, y.values.ravel(), cv=8, scoring='neg_mean_squared_error')\n",
    "r2 = cross_val_score(model, X, y.values.ravel(), cv=8, scoring='r2')\n",
    "\n",
    "print(f\"Gradient Boosting: \\tMSE: {mse.mean()} \\tR2: {r2.mean()}\")"
   ]
  },
  {
   "cell_type": "code",
   "execution_count": 18,
   "metadata": {},
   "outputs": [
    {
     "name": "stdout",
     "output_type": "stream",
     "text": [
      "0.12477983017873043\n",
      "{'learning_rate': 0.01, 'max_depth': 7, 'max_features': 'log2', 'min_samples_leaf': 2, 'min_samples_split': 5, 'n_estimators': 200}\n"
     ]
    }
   ],
   "source": [
    "model = GradientBoostingRegressor()\n",
    "\n",
    "\n",
    "param_grid = {\n",
    "    'n_estimators': [100, 200, 400],\n",
    "    'learning_rate': [0.01, 0.1, 0.2],\n",
    "    'max_depth': [3, 5, 7],\n",
    "    'min_samples_split': [2, 5, 10],\n",
    "    'min_samples_leaf': [1, 2, 4],\n",
    "    'max_features': ['sqrt', 'log2']\n",
    "}\n",
    "\n",
    "grid_search = GridSearchCV(model, param_grid, cv=5, scoring = 'r2')\n",
    "grid_search.fit(X, y.values.ravel())\n",
    "\n",
    "print(grid_search.best_score_)\n",
    "print(grid_search.best_params_)"
   ]
  },
  {
   "cell_type": "code",
   "execution_count": 19,
   "metadata": {},
   "outputs": [
    {
     "name": "stdout",
     "output_type": "stream",
     "text": [
      "Gradient Boosting: \tMSE: -18.891804319690642 \tR2: 0.1126343408833183\n"
     ]
    }
   ],
   "source": [
    "model = GradientBoostingRegressor(\n",
    "    learning_rate = 0.01,\n",
    "    max_depth = 5,\n",
    "    max_features = 'log2',\n",
    "    min_samples_leaf = 4,\n",
    "    min_samples_split = 2,\n",
    "    n_estimators = 200\n",
    ")\n",
    "\n",
    "mse = cross_val_score(model, X, y.values.ravel(), cv=8, scoring='neg_mean_squared_error')\n",
    "r2 = cross_val_score(model, X, y.values.ravel(), cv=8, scoring='r2')\n",
    "\n",
    "print(f\"Gradient Boosting: \\tMSE: {mse.mean()} \\tR2: {r2.mean()}\")"
   ]
  },
  {
   "cell_type": "code",
   "execution_count": 20,
   "metadata": {},
   "outputs": [
    {
     "name": "stdout",
     "output_type": "stream",
     "text": [
      "Gradient Boosting: \tMSE: -18.869287101971874 \tR2: 0.09672722357002891\n"
     ]
    }
   ],
   "source": [
    "model = GradientBoostingRegressor(\n",
    "    learning_rate = 0.01,\n",
    "    max_depth = 3,\n",
    "    max_features = 'log2',\n",
    "    min_samples_leaf = 4,\n",
    "    min_samples_split = 2,\n",
    "    n_estimators = 200\n",
    ")\n",
    "\n",
    "mse = cross_val_score(model, X, y.values.ravel(), cv=8, scoring='neg_mean_squared_error')\n",
    "r2 = cross_val_score(model, X, y.values.ravel(), cv=8, scoring='r2')\n",
    "\n",
    "print(f\"Gradient Boosting: \\tMSE: {mse.mean()} \\tR2: {r2.mean()}\")"
   ]
  },
  {
   "cell_type": "markdown",
   "metadata": {},
   "source": [
    "## PCA components"
   ]
  },
  {
   "cell_type": "code",
   "execution_count": 21,
   "metadata": {},
   "outputs": [],
   "source": [
    "import numpy as np\n",
    "\n",
    "from sklearn.decomposition import PCA"
   ]
  },
  {
   "cell_type": "markdown",
   "metadata": {},
   "source": [
    "### Full dataset"
   ]
  },
  {
   "cell_type": "code",
   "execution_count": 34,
   "metadata": {},
   "outputs": [],
   "source": [
    "pca = PCA()\n",
    "pca_result = pca.fit_transform(X)"
   ]
  },
  {
   "cell_type": "code",
   "execution_count": 23,
   "metadata": {},
   "outputs": [],
   "source": [
    "X_pca = pca_result[:,:7]"
   ]
  },
  {
   "cell_type": "code",
   "execution_count": 25,
   "metadata": {},
   "outputs": [
    {
     "name": "stdout",
     "output_type": "stream",
     "text": [
      "0.08435526275296071\n",
      "{'learning_rate': 0.01, 'max_depth': 3, 'max_features': 'sqrt', 'min_samples_leaf': 4, 'min_samples_split': 10, 'n_estimators': 100}\n"
     ]
    }
   ],
   "source": [
    "model = GradientBoostingRegressor()\n",
    "\n",
    "\n",
    "param_grid = {\n",
    "    'n_estimators': [100, 200, 400],\n",
    "    'learning_rate': [0.01, 0.1, 0.2],\n",
    "    'max_depth': [3, 5, 7],\n",
    "    'min_samples_split': [2, 5, 10],\n",
    "    'min_samples_leaf': [1, 2, 4],\n",
    "    'max_features': ['sqrt', 'log2']\n",
    "}\n",
    "\n",
    "grid_search = GridSearchCV(model, param_grid, cv=5, scoring = 'r2')\n",
    "grid_search.fit(X_pca, y.values.ravel())\n",
    "\n",
    "print(grid_search.best_score_)\n",
    "print(grid_search.best_params_)"
   ]
  },
  {
   "cell_type": "code",
   "execution_count": 33,
   "metadata": {},
   "outputs": [
    {
     "name": "stdout",
     "output_type": "stream",
     "text": [
      "Gradient Boosting: \tMSE: -20.29395440511029 \tR2: 0.05630056858693097\n"
     ]
    }
   ],
   "source": [
    "model = GradientBoostingRegressor(\n",
    "    learning_rate = 0.01,\n",
    "    max_depth = 3,\n",
    "    max_features = 'sqrt',\n",
    "    min_samples_leaf = 4,\n",
    "    min_samples_split = 10,\n",
    "    n_estimators = 100\n",
    ")\n",
    "\n",
    "mse = cross_val_score(model, X_pca, y.values.ravel(), cv=8, scoring='neg_mean_squared_error')\n",
    "r2 = cross_val_score(model, X_pca, y.values.ravel(), cv=8, scoring='r2')\n",
    "\n",
    "print(f\"Gradient Boosting: \\tMSE: {mse.mean()} \\tR2: {r2.mean()}\")"
   ]
  },
  {
   "cell_type": "code",
   "execution_count": null,
   "metadata": {},
   "outputs": [],
   "source": []
  },
  {
   "cell_type": "code",
   "execution_count": null,
   "metadata": {},
   "outputs": [],
   "source": []
  },
  {
   "cell_type": "code",
   "execution_count": null,
   "metadata": {},
   "outputs": [],
   "source": []
  }
 ],
 "metadata": {
  "kernelspec": {
   "display_name": "neural-networks-_F4AaA2c-py3.10",
   "language": "python",
   "name": "python3"
  },
  "language_info": {
   "codemirror_mode": {
    "name": "ipython",
    "version": 3
   },
   "file_extension": ".py",
   "mimetype": "text/x-python",
   "name": "python",
   "nbconvert_exporter": "python",
   "pygments_lexer": "ipython3",
   "version": "3.10.13"
  }
 },
 "nbformat": 4,
 "nbformat_minor": 2
}
